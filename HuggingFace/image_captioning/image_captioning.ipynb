{
 "cells": [
  {
   "cell_type": "markdown",
   "metadata": {},
   "source": [
    "### Image Captioning"
   ]
  },
  {
   "cell_type": "code",
   "execution_count": 1,
   "metadata": {},
   "outputs": [
    {
     "name": "stderr",
     "output_type": "stream",
     "text": [
      "c:\\Users\\kaan\\anaconda3\\envs\\huggingface\\lib\\site-packages\\tqdm\\auto.py:21: TqdmWarning: IProgress not found. Please update jupyter and ipywidgets. See https://ipywidgets.readthedocs.io/en/stable/user_install.html\n",
      "  from .autonotebook import tqdm as notebook_tqdm\n"
     ]
    }
   ],
   "source": [
    "from transformers import BlipForConditionalGeneration"
   ]
  },
  {
   "cell_type": "code",
   "execution_count": 2,
   "metadata": {},
   "outputs": [
    {
     "name": "stderr",
     "output_type": "stream",
     "text": [
      "c:\\Users\\kaan\\anaconda3\\envs\\huggingface\\lib\\site-packages\\huggingface_hub\\file_download.py:140: UserWarning: `huggingface_hub` cache-system uses symlinks by default to efficiently store duplicated files but your machine does not support them in C:\\Users\\kaan\\.cache\\huggingface\\hub\\models--Salesforce--blip-image-captioning-base. Caching files will still work but in a degraded version that might require more space on your disk. This warning can be disabled by setting the `HF_HUB_DISABLE_SYMLINKS_WARNING` environment variable. For more details, see https://huggingface.co/docs/huggingface_hub/how-to-cache#limitations.\n",
      "To support symlinks on Windows, you either need to activate Developer Mode or to run Python as an administrator. In order to activate developer mode, see this article: https://docs.microsoft.com/en-us/windows/apps/get-started/enable-your-device-for-development\n",
      "  warnings.warn(message)\n"
     ]
    }
   ],
   "source": [
    "model = BlipForConditionalGeneration.from_pretrained(\n",
    "    \"Salesforce/blip-image-captioning-base\")"
   ]
  },
  {
   "cell_type": "code",
   "execution_count": 3,
   "metadata": {},
   "outputs": [],
   "source": [
    "from transformers import AutoProcessor\n",
    "processor = AutoProcessor.from_pretrained(\"Salesforce/blip-image-captioning-base\")"
   ]
  },
  {
   "cell_type": "code",
   "execution_count": 10,
   "metadata": {},
   "outputs": [
    {
     "data": {
      "text/plain": [
       "PIL.JpegImagePlugin.JpegImageFile"
      ]
     },
     "execution_count": 10,
     "metadata": {},
     "output_type": "execute_result"
    }
   ],
   "source": [
    "from PIL import Image\n",
    "import requests\n",
    "\n",
    "image = Image.open(\"./team.jpg\")\n",
    "type(image)"
   ]
  },
  {
   "cell_type": "code",
   "execution_count": 11,
   "metadata": {},
   "outputs": [],
   "source": [
    "text = \"a photograph of\""
   ]
  },
  {
   "cell_type": "code",
   "execution_count": 12,
   "metadata": {},
   "outputs": [],
   "source": [
    "inputs = processor(image, text, return_tensors=\"pt\")"
   ]
  },
  {
   "cell_type": "code",
   "execution_count": 13,
   "metadata": {},
   "outputs": [
    {
     "data": {
      "text/plain": [
       "{'pixel_values': tensor([[[[-1.6317, -1.6463, -1.6317,  ..., -1.7777, -1.6171, -1.5733],\n",
       "          [-1.6901, -1.7047, -1.6901,  ..., -1.7777, -1.7923, -1.7631],\n",
       "          [-1.7485, -1.7047, -1.7047,  ..., -1.7631, -1.7631, -1.7485],\n",
       "          ...,\n",
       "          [-1.6317, -1.6317, -1.6317,  ..., -1.6609, -1.6755, -1.6755],\n",
       "          [-1.5879, -1.6025, -1.6171,  ..., -1.5587, -1.5441, -1.5441],\n",
       "          [-1.5587, -1.5879, -1.5879,  ..., -0.7558, -0.6828, -0.5806]],\n",
       "\n",
       "         [[-1.4219, -1.4369, -1.4369,  ..., -0.4164,  0.0188,  0.3340],\n",
       "          [-1.3919, -1.4219, -1.4369,  ..., -0.4464, -0.3414, -0.1313],\n",
       "          [-1.4219, -1.4069, -1.4519,  ..., -0.4614, -0.4614, -0.4464],\n",
       "          ...,\n",
       "          [-1.5120, -1.5120, -1.5120,  ..., -1.6020, -1.6170, -1.6170],\n",
       "          [-1.4820, -1.5120, -1.5120,  ..., -1.4970, -1.4820, -1.4820],\n",
       "          [-1.4669, -1.4970, -1.5270,  ..., -0.6715, -0.5965, -0.4914]],\n",
       "\n",
       "         [[-1.0252, -1.0110, -0.9967,  ...,  1.2074,  1.5344,  1.7193],\n",
       "          [-0.9825, -0.9825, -0.9825,  ...,  1.2074,  1.2643,  1.3922],\n",
       "          [-0.9541, -0.9114, -0.9114,  ...,  1.2216,  1.2216,  1.2358],\n",
       "          ...,\n",
       "          [-1.2100, -1.2100, -1.1816,  ..., -1.2669, -1.2811, -1.2811],\n",
       "          [-1.1389, -1.1532, -1.1674,  ..., -1.1674, -1.1532, -1.1532],\n",
       "          [-1.1105, -1.1389, -1.1532,  ..., -0.3853, -0.3142, -0.2146]]]]), 'input_ids': tensor([[ 101, 1037, 9982, 1997,  102]]), 'attention_mask': tensor([[1, 1, 1, 1, 1]])}"
      ]
     },
     "execution_count": 13,
     "metadata": {},
     "output_type": "execute_result"
    }
   ],
   "source": [
    "inputs"
   ]
  },
  {
   "cell_type": "code",
   "execution_count": 14,
   "metadata": {},
   "outputs": [],
   "source": [
    "output = model.generate(**inputs)"
   ]
  },
  {
   "cell_type": "code",
   "execution_count": 15,
   "metadata": {},
   "outputs": [
    {
     "data": {
      "text/plain": [
       "tensor([[30522,  1037,  9982,  1997,  1996,  2136,  2007,  2037, 22236,   102]])"
      ]
     },
     "execution_count": 15,
     "metadata": {},
     "output_type": "execute_result"
    }
   ],
   "source": [
    "output"
   ]
  },
  {
   "cell_type": "code",
   "execution_count": 16,
   "metadata": {},
   "outputs": [
    {
     "name": "stdout",
     "output_type": "stream",
     "text": [
      "a photograph of the team with their trophies\n"
     ]
    }
   ],
   "source": [
    "print(processor.decode(output[0], skip_special_tokens=True))"
   ]
  }
 ],
 "metadata": {
  "kernelspec": {
   "display_name": "huggingface",
   "language": "python",
   "name": "python3"
  },
  "language_info": {
   "codemirror_mode": {
    "name": "ipython",
    "version": 3
   },
   "file_extension": ".py",
   "mimetype": "text/x-python",
   "name": "python",
   "nbconvert_exporter": "python",
   "pygments_lexer": "ipython3",
   "version": "3.9.21"
  }
 },
 "nbformat": 4,
 "nbformat_minor": 2
}
